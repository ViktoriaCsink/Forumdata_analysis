{
 "cells": [
  {
   "cell_type": "markdown",
   "id": "1725e0ca",
   "metadata": {},
   "source": [
    "# Rough idea about positive/negative sentiment <br> Calculating sum of afinn-scores (corrected by tfidf)"
   ]
  },
  {
   "cell_type": "markdown",
   "id": "a2c78b01",
   "metadata": {},
   "source": [
    "Accessing the Big Query data through jupyter nb"
   ]
  },
  {
   "cell_type": "code",
   "execution_count": 1,
   "id": "9db64465",
   "metadata": {},
   "outputs": [],
   "source": [
    "import pandas as pd\n",
    "pd.set_option('display.max_rows', 1000)\n",
    "from google.cloud import bigquery\n",
    "import os\n",
    "import numpy as np\n",
    "import pydata_google_auth\n",
    "import pandas_gbq\n",
    "import sys\n",
    "from afinn import Afinn\n",
    "import re\n",
    "from tqdm import tqdm\n",
    "import nltk\n",
    "from nltk.corpus import wordnet\n",
    "from nltk.corpus import stopwords\n",
    "from wordcloud import WordCloud\n",
    "import matplotlib.pyplot as plt\n",
    "tqdm.pandas()\n",
    "from sklearn.feature_extraction.text import TfidfVectorizer\n",
    "import seaborn as sns\n",
    "import matplotlib.pyplot as plt\n",
    "from sklearn import preprocessing\n",
    "import json\n",
    "\n",
    "afinn = Afinn(language='en')"
   ]
  },
  {
   "cell_type": "code",
   "execution_count": 2,
   "id": "a19f0c35",
   "metadata": {},
   "outputs": [
    {
     "name": "stdout",
     "output_type": "stream",
     "text": [
      "/Users/viktoria/opt/anaconda3/envs/mumsnet/bin/python\n"
     ]
    }
   ],
   "source": [
    "print(sys.executable)"
   ]
  },
  {
   "cell_type": "markdown",
   "id": "c2bc0880",
   "metadata": {},
   "source": [
    "#Working code from Hattie\n",
    "\n",
    "sql_3 = \"\"\" select * from ( select hit.eventinfo.eventlabel as event_label, page.pagePath, count(distinct concat(cast(fullvisitorid as string), cast(visitstarttime as string))) as unique_events from mumsnet-ga360.646958.ga_sessions_*, UNNEST(hits) AS hit where hit.eventinfo.eventcategory ='External Link' and _TABLE_SUFFIX between '20210601' and '20210602' group by 1,2) where event_label is not null\"\"\"\n",
    "\n",
    "ga_clicks = pd.read_gbq(sql_3, project_id='mumsnet-ga360', dialect='standard', credentials=credentials) ga_clicks.columns = ga_clicks.columns.str.lower() ga_clicks.head()"
   ]
  },
  {
   "cell_type": "code",
   "execution_count": null,
   "id": "069d0f8b",
   "metadata": {},
   "outputs": [],
   "source": [
    "os.environ[\"GOOGLE_APPLICATION_CREDENTIALS\"]=\"/Users/viktoria/Mumsnet GA360-credentials.JSON\""
   ]
  },
  {
   "cell_type": "code",
   "execution_count": null,
   "id": "e38e0a8e",
   "metadata": {},
   "outputs": [],
   "source": [
    "bigquery_client = bigquery.Client(project='mumsnet-ga360')\n",
    "credentials = pydata_google_auth.get_user_credentials(\n",
    "    ['https://www.googleapis.com/auth/bigquery'],\n",
    ")"
   ]
  },
  {
   "cell_type": "code",
   "execution_count": null,
   "id": "0eaf60ff",
   "metadata": {},
   "outputs": [],
   "source": [
    "sql_3 = \"\"\" SELECT\n",
    "messages.raw_message, \n",
    "messages.posttime, \n",
    "messages.threadid, \n",
    "threads.name, \n",
    "threads.topic_url\n",
    "FROM mysql_aws_slave.messages\n",
    "LEFT JOIN mysql_aws_slave.threads\n",
    "    ON messages.threadid = threads.id \n",
    "ORDER BY RAND()\n",
    "LIMIT 5000 \"\"\"\n",
    "\n",
    "\n",
    "forumdata = pd.read_gbq(sql_3, project_id='mumsnet-ga360', dialect='standard', credentials=credentials)\n",
    "forumdata.columns = forumdata.columns.str.lower()\n",
    "forumdata.head()"
   ]
  },
  {
   "cell_type": "code",
   "execution_count": null,
   "id": "73a37e52",
   "metadata": {},
   "outputs": [],
   "source": [
    "len(forumdata)"
   ]
  },
  {
   "cell_type": "code",
   "execution_count": null,
   "id": "fa132655",
   "metadata": {},
   "outputs": [],
   "source": [
    "forumdata.to_csv('forumdata_02.09.2021.csv')"
   ]
  },
  {
   "cell_type": "markdown",
   "id": "684a937b",
   "metadata": {},
   "source": [
    "### Start processing the data (read in if already prepared)"
   ]
  },
  {
   "cell_type": "code",
   "execution_count": 3,
   "id": "9cd01259",
   "metadata": {},
   "outputs": [
    {
     "data": {
      "text/plain": [
       "'/Users/viktoria/Documents/EDA/AFINN'"
      ]
     },
     "execution_count": 3,
     "metadata": {},
     "output_type": "execute_result"
    }
   ],
   "source": [
    "pwd"
   ]
  },
  {
   "cell_type": "code",
   "execution_count": 4,
   "id": "00af5e55",
   "metadata": {},
   "outputs": [
    {
     "data": {
      "text/html": [
       "<div>\n",
       "<style scoped>\n",
       "    .dataframe tbody tr th:only-of-type {\n",
       "        vertical-align: middle;\n",
       "    }\n",
       "\n",
       "    .dataframe tbody tr th {\n",
       "        vertical-align: top;\n",
       "    }\n",
       "\n",
       "    .dataframe thead th {\n",
       "        text-align: right;\n",
       "    }\n",
       "</style>\n",
       "<table border=\"1\" class=\"dataframe\">\n",
       "  <thead>\n",
       "    <tr style=\"text-align: right;\">\n",
       "      <th></th>\n",
       "      <th>raw_message</th>\n",
       "      <th>posttime</th>\n",
       "      <th>threadid</th>\n",
       "      <th>name</th>\n",
       "      <th>topic_url</th>\n",
       "    </tr>\n",
       "  </thead>\n",
       "  <tbody>\n",
       "    <tr>\n",
       "      <th>0</th>\n",
       "      <td>Hi Lou, just another one popping along to give...</td>\n",
       "      <td>2012-08-03 13:39:32+00:00</td>\n",
       "      <td>1531140</td>\n",
       "      <td>please please help</td>\n",
       "      <td>relationships</td>\n",
       "    </tr>\n",
       "    <tr>\n",
       "      <th>1</th>\n",
       "      <td>People are allowed to change jobs! Doesn’t mea...</td>\n",
       "      <td>2020-09-05 16:47:40+00:00</td>\n",
       "      <td>4014294</td>\n",
       "      <td>Jane Garvey quits Woman's Hour</td>\n",
       "      <td>womens_rights</td>\n",
       "    </tr>\n",
       "    <tr>\n",
       "      <th>2</th>\n",
       "      <td>Befnalbub - now that is wierd. My birthday is ...</td>\n",
       "      <td>2006-11-28 15:32:50+00:00</td>\n",
       "      <td>245747</td>\n",
       "      <td>Due May 07 - Thread for w/c 27/11/06</td>\n",
       "      <td>birth_clubs</td>\n",
       "    </tr>\n",
       "    <tr>\n",
       "      <th>3</th>\n",
       "      <td>I found a solidified egg in one of my window b...</td>\n",
       "      <td>2021-02-28 19:07:04+00:00</td>\n",
       "      <td>4179271</td>\n",
       "      <td>Why would someone hid raw chicken in my potato...</td>\n",
       "      <td>_chat</td>\n",
       "    </tr>\n",
       "    <tr>\n",
       "      <th>4</th>\n",
       "      <td>Hi OP, we took DD2 to hospital the other night...</td>\n",
       "      <td>2017-01-02 21:47:00+00:00</td>\n",
       "      <td>2817620</td>\n",
       "      <td>Concerned Mum!</td>\n",
       "      <td>am_i_being_unreasonable</td>\n",
       "    </tr>\n",
       "  </tbody>\n",
       "</table>\n",
       "</div>"
      ],
      "text/plain": [
       "                                         raw_message  \\\n",
       "0  Hi Lou, just another one popping along to give...   \n",
       "1  People are allowed to change jobs! Doesn’t mea...   \n",
       "2  Befnalbub - now that is wierd. My birthday is ...   \n",
       "3  I found a solidified egg in one of my window b...   \n",
       "4  Hi OP, we took DD2 to hospital the other night...   \n",
       "\n",
       "                    posttime  threadid  \\\n",
       "0  2012-08-03 13:39:32+00:00   1531140   \n",
       "1  2020-09-05 16:47:40+00:00   4014294   \n",
       "2  2006-11-28 15:32:50+00:00    245747   \n",
       "3  2021-02-28 19:07:04+00:00   4179271   \n",
       "4  2017-01-02 21:47:00+00:00   2817620   \n",
       "\n",
       "                                                name                topic_url  \n",
       "0                                 please please help            relationships  \n",
       "1                     Jane Garvey quits Woman's Hour            womens_rights  \n",
       "2               Due May 07 - Thread for w/c 27/11/06              birth_clubs  \n",
       "3  Why would someone hid raw chicken in my potato...                    _chat  \n",
       "4                                     Concerned Mum!  am_i_being_unreasonable  "
      ]
     },
     "execution_count": 4,
     "metadata": {},
     "output_type": "execute_result"
    }
   ],
   "source": [
    "forumdata = pd.read_csv('forumdata_02.09.2021.csv')\n",
    "forumdata = forumdata.loc[:,~forumdata.columns.str.contains('Unnamed', case=False)] \n",
    "forumdata.head()"
   ]
  },
  {
   "cell_type": "markdown",
   "id": "eb47708d",
   "metadata": {},
   "source": [
    "Check if the word clouds with pos/neg scores make sense"
   ]
  },
  {
   "cell_type": "code",
   "execution_count": 5,
   "id": "2e7e0c1e",
   "metadata": {},
   "outputs": [],
   "source": [
    "def clean_text(content):\n",
    "    \n",
    "    if type(content) == bytes:\n",
    "        content = content.decode('utf-8')\n",
    "    content = re.findall(r'[a-zA-Z]+', content)\n",
    "    content = [c.lower() for c in content]\n",
    "    \n",
    "    #rm non-English words and stop-words\n",
    "    en_words = set(nltk.corpus.words.words())\n",
    "    stop_words = [s for s in stopwords.words('english')]\n",
    "    content = [c for c in content if c in en_words and c not in stop_words]\n",
    "    \n",
    "    #rm very short words\n",
    "    content = [c for c in content if len(c)>=3]\n",
    "    \n",
    "    #join it back into a tidy string of words\n",
    "    content = ' '.join([c for c in content])\n",
    "    \n",
    "    return content"
   ]
  },
  {
   "cell_type": "code",
   "execution_count": 6,
   "id": "95538ef2",
   "metadata": {},
   "outputs": [
    {
     "name": "stderr",
     "output_type": "stream",
     "text": [
      "100%|███████████████████████████████████████| 5000/5000 [08:48<00:00,  9.45it/s]\n"
     ]
    }
   ],
   "source": [
    "forumdata['cleaned_message'] = [clean_text(m) for m in tqdm(forumdata.raw_message)]"
   ]
  },
  {
   "cell_type": "code",
   "execution_count": 29,
   "id": "8b3d90a8",
   "metadata": {},
   "outputs": [
    {
     "data": {
      "text/html": [
       "<div>\n",
       "<style scoped>\n",
       "    .dataframe tbody tr th:only-of-type {\n",
       "        vertical-align: middle;\n",
       "    }\n",
       "\n",
       "    .dataframe tbody tr th {\n",
       "        vertical-align: top;\n",
       "    }\n",
       "\n",
       "    .dataframe thead th {\n",
       "        text-align: right;\n",
       "    }\n",
       "</style>\n",
       "<table border=\"1\" class=\"dataframe\">\n",
       "  <thead>\n",
       "    <tr style=\"text-align: right;\">\n",
       "      <th></th>\n",
       "      <th>raw_message</th>\n",
       "      <th>posttime</th>\n",
       "      <th>threadid</th>\n",
       "      <th>name</th>\n",
       "      <th>topic_url</th>\n",
       "      <th>cleaned_message</th>\n",
       "    </tr>\n",
       "  </thead>\n",
       "  <tbody>\n",
       "    <tr>\n",
       "      <th>0</th>\n",
       "      <td>Hi Lou, just another one popping along to give...</td>\n",
       "      <td>2012-08-03 13:39:32+00:00</td>\n",
       "      <td>1531140</td>\n",
       "      <td>please please help</td>\n",
       "      <td>relationships</td>\n",
       "      <td>another one along give support need everything...</td>\n",
       "    </tr>\n",
       "    <tr>\n",
       "      <th>1</th>\n",
       "      <td>People are allowed to change jobs! Doesn’t mea...</td>\n",
       "      <td>2020-09-05 16:47:40+00:00</td>\n",
       "      <td>4014294</td>\n",
       "      <td>Jane Garvey quits Woman's Hour</td>\n",
       "      <td>womens_rights</td>\n",
       "      <td>people change mean anything anything sinister ...</td>\n",
       "    </tr>\n",
       "    <tr>\n",
       "      <th>2</th>\n",
       "      <td>Befnalbub - now that is wierd. My birthday is ...</td>\n",
       "      <td>2006-11-28 15:32:50+00:00</td>\n",
       "      <td>245747</td>\n",
       "      <td>Due May 07 - Thread for w/c 27/11/06</td>\n",
       "      <td>birth_clubs</td>\n",
       "      <td>birthday june live near hospital practically d...</td>\n",
       "    </tr>\n",
       "    <tr>\n",
       "      <th>3</th>\n",
       "      <td>I found a solidified egg in one of my window b...</td>\n",
       "      <td>2021-02-28 19:07:04+00:00</td>\n",
       "      <td>4179271</td>\n",
       "      <td>Why would someone hid raw chicken in my potato...</td>\n",
       "      <td>_chat</td>\n",
       "      <td>found egg one window last year new idea got ro...</td>\n",
       "    </tr>\n",
       "    <tr>\n",
       "      <th>4</th>\n",
       "      <td>Hi OP, we took DD2 to hospital the other night...</td>\n",
       "      <td>2017-01-02 21:47:00+00:00</td>\n",
       "      <td>2817620</td>\n",
       "      <td>Concerned Mum!</td>\n",
       "      <td>am_i_being_unreasonable</td>\n",
       "      <td>took hospital night advice high temp sleepy dr...</td>\n",
       "    </tr>\n",
       "  </tbody>\n",
       "</table>\n",
       "</div>"
      ],
      "text/plain": [
       "                                         raw_message  \\\n",
       "0  Hi Lou, just another one popping along to give...   \n",
       "1  People are allowed to change jobs! Doesn’t mea...   \n",
       "2  Befnalbub - now that is wierd. My birthday is ...   \n",
       "3  I found a solidified egg in one of my window b...   \n",
       "4  Hi OP, we took DD2 to hospital the other night...   \n",
       "\n",
       "                    posttime  threadid  \\\n",
       "0  2012-08-03 13:39:32+00:00   1531140   \n",
       "1  2020-09-05 16:47:40+00:00   4014294   \n",
       "2  2006-11-28 15:32:50+00:00    245747   \n",
       "3  2021-02-28 19:07:04+00:00   4179271   \n",
       "4  2017-01-02 21:47:00+00:00   2817620   \n",
       "\n",
       "                                                name                topic_url  \\\n",
       "0                                 please please help            relationships   \n",
       "1                     Jane Garvey quits Woman's Hour            womens_rights   \n",
       "2               Due May 07 - Thread for w/c 27/11/06              birth_clubs   \n",
       "3  Why would someone hid raw chicken in my potato...                    _chat   \n",
       "4                                     Concerned Mum!  am_i_being_unreasonable   \n",
       "\n",
       "                                     cleaned_message  \n",
       "0  another one along give support need everything...  \n",
       "1  people change mean anything anything sinister ...  \n",
       "2  birthday june live near hospital practically d...  \n",
       "3  found egg one window last year new idea got ro...  \n",
       "4  took hospital night advice high temp sleepy dr...  "
      ]
     },
     "execution_count": 29,
     "metadata": {},
     "output_type": "execute_result"
    }
   ],
   "source": [
    "forumdata.head()"
   ]
  },
  {
   "cell_type": "markdown",
   "id": "d1b21dbb",
   "metadata": {},
   "source": [
    "### Create a dictionary with the afinn scores"
   ]
  },
  {
   "cell_type": "code",
   "execution_count": 8,
   "id": "b5dd7d97",
   "metadata": {},
   "outputs": [],
   "source": [
    "with open('afinn-165.txt', 'r') as f:\n",
    "    wordlist = f.readlines()\n",
    "    afinn = {}"
   ]
  },
  {
   "cell_type": "code",
   "execution_count": 9,
   "id": "963d0e38",
   "metadata": {},
   "outputs": [],
   "source": [
    "for w in wordlist:\n",
    "    try:\n",
    "        word = re.findall('^(.*?):', w)[0].strip() #get the word\n",
    "        num = re.findall(':(.*)', w)[0].strip() #get the score\n",
    "        num = re.sub(r',', '', num)\n",
    "        afinn[word] = int(num)\n",
    "    except:\n",
    "        wordlist.remove(w)"
   ]
  },
  {
   "cell_type": "markdown",
   "id": "72614a5f",
   "metadata": {},
   "source": [
    "### Get the tfidf score of each word in each message to reflect frequency"
   ]
  },
  {
   "cell_type": "code",
   "execution_count": 12,
   "id": "cd1d14e3",
   "metadata": {},
   "outputs": [
    {
     "data": {
      "text/plain": [
       "(5000, 9198)"
      ]
     },
     "execution_count": 12,
     "metadata": {},
     "output_type": "execute_result"
    }
   ],
   "source": [
    "cleaned_data = []\n",
    "cleaned_data.extend(''.join(forumdata['cleaned_message'][index]) for index, row in forumdata.iterrows())\n",
    "\n",
    "tf = TfidfVectorizer()\n",
    "\n",
    "cleaned_data_transformed = tf.fit_transform(cleaned_data)\n",
    "\n",
    "data_vector = pd.DataFrame(cleaned_data_transformed.toarray(),\n",
    "                 columns=tf.get_feature_names())\n",
    "\n",
    "data_vector.shape"
   ]
  },
  {
   "cell_type": "markdown",
   "id": "e6d5c312",
   "metadata": {},
   "source": [
    "### Calculate a corrected afinn score for each message: SUM(raw afinn score X tfidf score) for each unique word in the message"
   ]
  },
  {
   "cell_type": "code",
   "execution_count": 45,
   "id": "e4f988c2",
   "metadata": {},
   "outputs": [
    {
     "name": "stderr",
     "output_type": "stream",
     "text": [
      "4010it [00:00, 5055.39it/s]\n"
     ]
    },
    {
     "data": {
      "text/html": [
       "<div>\n",
       "<style scoped>\n",
       "    .dataframe tbody tr th:only-of-type {\n",
       "        vertical-align: middle;\n",
       "    }\n",
       "\n",
       "    .dataframe tbody tr th {\n",
       "        vertical-align: top;\n",
       "    }\n",
       "\n",
       "    .dataframe thead th {\n",
       "        text-align: right;\n",
       "    }\n",
       "</style>\n",
       "<table border=\"1\" class=\"dataframe\">\n",
       "  <thead>\n",
       "    <tr style=\"text-align: right;\">\n",
       "      <th></th>\n",
       "      <th>raw_message</th>\n",
       "      <th>posttime</th>\n",
       "      <th>threadid</th>\n",
       "      <th>name</th>\n",
       "      <th>topic_url</th>\n",
       "      <th>cleaned_message</th>\n",
       "      <th>corrected_afinn_score</th>\n",
       "      <th>total_corrected_afinn_score</th>\n",
       "    </tr>\n",
       "  </thead>\n",
       "  <tbody>\n",
       "    <tr>\n",
       "      <th>0</th>\n",
       "      <td>Hi Lou, just another one popping along to give...</td>\n",
       "      <td>2012-08-03 13:39:32+00:00</td>\n",
       "      <td>1531140</td>\n",
       "      <td>please please help</td>\n",
       "      <td>relationships</td>\n",
       "      <td>another one along give support need everything...</td>\n",
       "      <td>-0.612440</td>\n",
       "      <td>-0.612440</td>\n",
       "    </tr>\n",
       "    <tr>\n",
       "      <th>1</th>\n",
       "      <td>People are allowed to change jobs! Doesn’t mea...</td>\n",
       "      <td>2020-09-05 16:47:40+00:00</td>\n",
       "      <td>4014294</td>\n",
       "      <td>Jane Garvey quits Woman's Hour</td>\n",
       "      <td>womens_rights</td>\n",
       "      <td>people change mean anything anything sinister ...</td>\n",
       "      <td>0.098769</td>\n",
       "      <td>0.098769</td>\n",
       "    </tr>\n",
       "    <tr>\n",
       "      <th>2</th>\n",
       "      <td>Befnalbub - now that is wierd. My birthday is ...</td>\n",
       "      <td>2006-11-28 15:32:50+00:00</td>\n",
       "      <td>245747</td>\n",
       "      <td>Due May 07 - Thread for w/c 27/11/06</td>\n",
       "      <td>birth_clubs</td>\n",
       "      <td>birthday june live near hospital practically d...</td>\n",
       "      <td>-0.782798</td>\n",
       "      <td>-0.782798</td>\n",
       "    </tr>\n",
       "    <tr>\n",
       "      <th>3</th>\n",
       "      <td>I found a solidified egg in one of my window b...</td>\n",
       "      <td>2021-02-28 19:07:04+00:00</td>\n",
       "      <td>4179271</td>\n",
       "      <td>Why would someone hid raw chicken in my potato...</td>\n",
       "      <td>_chat</td>\n",
       "      <td>found egg one window last year new idea got ro...</td>\n",
       "      <td>-0.208420</td>\n",
       "      <td>-0.208420</td>\n",
       "    </tr>\n",
       "    <tr>\n",
       "      <th>4</th>\n",
       "      <td>Hi OP, we took DD2 to hospital the other night...</td>\n",
       "      <td>2017-01-02 21:47:00+00:00</td>\n",
       "      <td>2817620</td>\n",
       "      <td>Concerned Mum!</td>\n",
       "      <td>am_i_being_unreasonable</td>\n",
       "      <td>took hospital night advice high temp sleepy dr...</td>\n",
       "      <td>-1.711975</td>\n",
       "      <td>-1.711975</td>\n",
       "    </tr>\n",
       "  </tbody>\n",
       "</table>\n",
       "</div>"
      ],
      "text/plain": [
       "                                         raw_message  \\\n",
       "0  Hi Lou, just another one popping along to give...   \n",
       "1  People are allowed to change jobs! Doesn’t mea...   \n",
       "2  Befnalbub - now that is wierd. My birthday is ...   \n",
       "3  I found a solidified egg in one of my window b...   \n",
       "4  Hi OP, we took DD2 to hospital the other night...   \n",
       "\n",
       "                    posttime  threadid  \\\n",
       "0  2012-08-03 13:39:32+00:00   1531140   \n",
       "1  2020-09-05 16:47:40+00:00   4014294   \n",
       "2  2006-11-28 15:32:50+00:00    245747   \n",
       "3  2021-02-28 19:07:04+00:00   4179271   \n",
       "4  2017-01-02 21:47:00+00:00   2817620   \n",
       "\n",
       "                                                name                topic_url  \\\n",
       "0                                 please please help            relationships   \n",
       "1                     Jane Garvey quits Woman's Hour            womens_rights   \n",
       "2               Due May 07 - Thread for w/c 27/11/06              birth_clubs   \n",
       "3  Why would someone hid raw chicken in my potato...                    _chat   \n",
       "4                                     Concerned Mum!  am_i_being_unreasonable   \n",
       "\n",
       "                                     cleaned_message  corrected_afinn_score  \\\n",
       "0  another one along give support need everything...              -0.612440   \n",
       "1  people change mean anything anything sinister ...               0.098769   \n",
       "2  birthday june live near hospital practically d...              -0.782798   \n",
       "3  found egg one window last year new idea got ro...              -0.208420   \n",
       "4  took hospital night advice high temp sleepy dr...              -1.711975   \n",
       "\n",
       "   total_corrected_afinn_score  \n",
       "0                    -0.612440  \n",
       "1                     0.098769  \n",
       "2                    -0.782798  \n",
       "3                    -0.208420  \n",
       "4                    -1.711975  "
      ]
     },
     "execution_count": 45,
     "metadata": {},
     "output_type": "execute_result"
    }
   ],
   "source": [
    "for r,v in tqdm(forumdata.iterrows()):\n",
    "    \n",
    "    #corrected afinn scores for this message\n",
    "    scores = []\n",
    "    \n",
    "    #unique words in the message\n",
    "    words = list(set(forumdata.loc[r, 'cleaned_message'].split()))\n",
    "    \n",
    "    #afinn for unique word*tfidf score\n",
    "    for w in words:\n",
    "        if afinn.get(w) is not None:\n",
    "            scores.append(afinn.get(w)*data_vector.loc[r, w])\n",
    "            \n",
    "    if scores: #at least 1 word was a sent word\n",
    "        forumdata.loc[r, 'total_corrected_afinn_score'] = sum(scores)\n",
    "    else:\n",
    "        forumdata.loc[r, 'total_corrected_afinn_score'] = None\n",
    "    \n",
    "    \n",
    "forumdata = forumdata.dropna()\n",
    "forumdata = forumdata.reset_index(drop=True)\n",
    "forumdata.head()"
   ]
  },
  {
   "cell_type": "markdown",
   "id": "827b4c67",
   "metadata": {},
   "source": [
    "## Visualisation"
   ]
  },
  {
   "cell_type": "markdown",
   "id": "2ff63fc2",
   "metadata": {},
   "source": [
    "### Distribution of sentiment values across all forums"
   ]
  },
  {
   "cell_type": "code",
   "execution_count": 46,
   "id": "47381f43",
   "metadata": {},
   "outputs": [],
   "source": [
    "#Normalise the target variable (0,1) to get the scaled colours\n",
    "\n",
    "cm = plt.get_cmap('hot')\n",
    "\n",
    "x = forumdata.total_corrected_afinn_score\n",
    "min_max_scaler = preprocessing.MinMaxScaler()\n",
    "x = np.asarray(x).reshape(-1,1)\n",
    "x_scaled = min_max_scaler.fit_transform(x)\n",
    "x_scaled = [x_scaled[count][0] for count,val in enumerate(x_scaled)]\n",
    "\n",
    "colours = [cm(x) for x in x_scaled]"
   ]
  },
  {
   "cell_type": "code",
   "execution_count": 47,
   "id": "6292b70f",
   "metadata": {},
   "outputs": [
    {
     "data": {
      "image/png": "[encoded data removed]",
      "text/html": [
       "<div style=\"vertical-align: middle;\"><strong>hot</strong> </div><div class=\"cmap\"><img alt=\"hot colormap\" title=\"hot\" style=\"border: 1px solid #555;\" src=\"data:image/png;base64,iVBORw0KGgoAAAANSUhEUgAAAgAAAABACAYAAABsv8+/AAAAEnRFWHRUaXRsZQBob3QgY29sb3JtYXBMLchKAAAAGHRFWHREZXNjcmlwdGlvbgBob3QgY29sb3JtYXBABboQAAAAMHRFWHRBdXRob3IATWF0cGxvdGxpYiB2My40LjMsIGh0dHBzOi8vbWF0cGxvdGxpYi5vcmcJXfPTAAAAMnRFWHRTb2Z0d2FyZQBNYXRwbG90bGliIHYzLjQuMywgaHR0cHM6Ly9tYXRwbG90bGliLm9yZyf7bPQAAAFaSURBVHic7da5DoIAEADRRaz8///VwqOgUQsjZN5rNiEsRwLJLJeZ68zMOnenx1w3c3v80/Ps29/T/vLuQkd9sdr+UZ5zr/uvH+H8p7l+eb77/2I+vwIAIEQAAECQAACAIAEAAEECAACCBAAABAkAAAgSAAAQJAAAIEgAAECQAACAIAEAAEECAACCBAAABAkAAAgSAAAQJAAAIEgAAECQAACAIAEAAEECAACCBAAABAkAAAgSAAAQJAAAIEgAAECQAACAIAEAAEECAACCBAAABAkAAAgSAAAQJAAAIEgAAECQAACAIAEAAEECAACCBAAABAkAAAgSAAAQJAAAIEgAAECQAACAIAEAAEECAACCBAAABAkAAAgSAAAQJAAAIEgAAECQAACAIAEAAEECAACCBAAABAkAAAgSAAAQJAAAIEgAAECQAACAIAEAAEECAACCBAAABAkAAAi6AblkBHyWiDNaAAAAAElFTkSuQmCC\"></div><div style=\"vertical-align: middle; max-width: 514px; display: flex; justify-content: space-between;\"><div style=\"float: left;\"><div title=\"#0b0000ff\" style=\"display: inline-block; width: 1em; height: 1em; margin: 0; vertical-align: middle; border: 1px solid #555; background-color: #0b0000ff;\"></div> under</div><div style=\"margin: 0 auto; display: inline-block;\">bad <div title=\"#00000000\" style=\"display: inline-block; width: 1em; height: 1em; margin: 0; vertical-align: middle; border: 1px solid #555; background-color: #00000000;\"></div></div><div style=\"float: right;\">over <div title=\"#ffffffff\" style=\"display: inline-block; width: 1em; height: 1em; margin: 0; vertical-align: middle; border: 1px solid #555; background-color: #ffffffff;\"></div></div>"
      ],
      "text/plain": [
       "<matplotlib.colors.LinearSegmentedColormap at 0x7fb07bcc5340>"
      ]
     },
     "execution_count": 47,
     "metadata": {},
     "output_type": "execute_result"
    }
   ],
   "source": [
    "cm"
   ]
  },
  {
   "cell_type": "code",
   "execution_count": 51,
   "id": "457ba484",
   "metadata": {},
   "outputs": [
    {
     "data": {
      "image/png": "[encoded data removed]",
      "text/plain": [
       "<Figure size 1152x648 with 1 Axes>"
      ]
     },
     "metadata": {
      "needs_background": "light"
     },
     "output_type": "display_data"
    }
   ],
   "source": [
    "plt.figure(figsize=(16,9))\n",
    "\n",
    "N, bins, patches = plt.hist(forumdata.total_corrected_afinn_score, bins=100, edgecolor='white', linewidth=1)\n",
    "\n",
    "for i in range(0,len(patches)):\n",
    "    patches[i].set_facecolor(colours[i])\n",
    "    \n",
    "plt.xlabel('\\nSentiment score', fontsize=15)\n",
    "plt.ylabel('Number of posts\\n', fontsize=15)\n",
    "#ax.tick_params(labelsize=18)\n",
    "plt.xticks(range(-1,1,1))\n",
    "plt.title('\\n\\nDistirbution of positive and negative sentiments across all forums', fontsize=20)\n",
    "\n",
    "plt.tight_layout()\n",
    "plt.savefig('Dist_all_forums.pdf')\n",
    "    \n",
    "plt.show()\n",
    "    "
   ]
  },
  {
   "cell_type": "markdown",
   "id": "8febc06b",
   "metadata": {},
   "source": [
    "### Summary of sentiment values per forum"
   ]
  },
  {
   "cell_type": "code",
   "execution_count": null,
   "id": "eb041f33",
   "metadata": {},
   "outputs": [],
   "source": [
    "sns.set_theme(style='whitegrid', palette='muted')\n",
    "plt.figure(figsize=(30,60))\n",
    "\n",
    "ax = sns.stripplot(data=forumdata, x = 'total_corrected_afinn_score', y = 'topic_url', s=7)\n",
    "\n",
    "ax.set_xlabel('\\nSentiment score', fontsize=30)\n",
    "ax.set_ylabel('Forum\\n', fontsize=30)\n",
    "ax.tick_params(labelsize=18)\n",
    "ax.set_xticks(range(-20,20,1))\n",
    "plt.title('\\nOverview of positive and negative sentiments per forum\\n', fontsize=50)\n",
    "\n",
    "plt.tight_layout()\n",
    "plt.savefig('Sents_per_forum.pdf')\n"
   ]
  },
  {
   "cell_type": "markdown",
   "id": "cf88bbce",
   "metadata": {},
   "source": [
    "### Distirbution of sentiment values per forum"
   ]
  },
  {
   "cell_type": "code",
   "execution_count": null,
   "id": "23293d67",
   "metadata": {},
   "outputs": [],
   "source": [
    "# Only plot the forums where there are > 100 messages\n",
    "\n",
    "forums = [key for key in forumdata.topic_url.value_counts().keys() if forumdata.topic_url.value_counts().get(key)>=100]"
   ]
  },
  {
   "cell_type": "code",
   "execution_count": null,
   "id": "0f46602e",
   "metadata": {},
   "outputs": [],
   "source": [
    "forumdata2 = forumdata[forumdata['topic_url'].isin(forums)]"
   ]
  },
  {
   "cell_type": "code",
   "execution_count": null,
   "id": "63414431",
   "metadata": {},
   "outputs": [],
   "source": [
    "forumdata2.shape"
   ]
  },
  {
   "cell_type": "code",
   "execution_count": null,
   "id": "5af04b57",
   "metadata": {},
   "outputs": [],
   "source": [
    "cmap = sns.color_palette(\"viridis\", 8)\n",
    "\n",
    "g = sns.FacetGrid(forumdata2, col = 'topic_url', height = 5, col_wrap=3, hue = 'topic_url', palette='tab10')\n",
    "g.map(sns.histplot, \"total_corrected_afinn_score\")\n",
    "g.set_axis_labels(\"\\nSentiment score\", \"Number of messages\\n\", fontsize=20)\n",
    "g.set_titles(col_template=\"{col_name}\", row_template=\"{row_name}\", size=15, weight='bold')\n",
    "g.set(xlim=(-10, 10))\n",
    "g.savefig(\"Dis_sents_per_forum.pdf\")"
   ]
  },
  {
   "cell_type": "markdown",
   "id": "a4e31d82",
   "metadata": {},
   "source": [
    "## Key questions (meeting w Abigail Mon 6.09.2021)"
   ]
  },
  {
   "cell_type": "markdown",
   "id": "ff550604",
   "metadata": {},
   "source": [
    "### 1. What are the top sentiment words on each forum?"
   ]
  },
  {
   "cell_type": "code",
   "execution_count": null,
   "id": "482dddce",
   "metadata": {},
   "outputs": [],
   "source": [
    "#Extract the negative and positive words from each message\n",
    "forumdata['neg_words'] = ''\n",
    "forumdata['pos_words'] = ''\n",
    "\n",
    "for r,v in tqdm(forumdata.iterrows()):\n",
    "    \n",
    "    message = forumdata.loc[r, 'cleaned_message'].split()\n",
    "    raw_scores = forumdata.loc[r, 'raw_afinn_scores']\n",
    "    corr_scores = forumdata.loc[r, 'corrected_afinn_scores']\n",
    "    \n",
    "    pos = []\n",
    "    neg = []\n",
    "\n",
    "    for word in message:\n",
    "        \n",
    "        i = message.index(word) #position of word\n",
    "        \n",
    "        #get the (word,corrected) score as a tuple for each neg/pos word\n",
    "        if raw_scores[i] > 0:\n",
    "            pos.append((word, corr_scores[i]))\n",
    "            \n",
    "        elif raw_scores[i] < 0:\n",
    "            neg.append((word, corr_scores[i]))\n",
    "    \n",
    "    #save them as a list\n",
    "    forumdata['neg_words'][r] = neg\n",
    "    forumdata['pos_words'][r] = pos"
   ]
  },
  {
   "cell_type": "code",
   "execution_count": null,
   "id": "c7bbd85c",
   "metadata": {},
   "outputs": [],
   "source": [
    "forumdata.head()"
   ]
  },
  {
   "cell_type": "code",
   "execution_count": null,
   "id": "c57dff0f",
   "metadata": {},
   "outputs": [],
   "source": [
    "neg_values = [item[1] for sublist in forumdata.neg_words.tolist() for item in sublist]\n",
    "neg_values"
   ]
  },
  {
   "cell_type": "code",
   "execution_count": null,
   "id": "2a0eaeb5",
   "metadata": {},
   "outputs": [],
   "source": [
    "cm_b = sns.color_palette(\"Blues\", as_cmap=True)\n",
    "cm_b"
   ]
  },
  {
   "cell_type": "code",
   "execution_count": null,
   "id": "987e45ec",
   "metadata": {},
   "outputs": [],
   "source": [
    "cm_r = sns.color_palette(\"Reds\", as_cmap=True)\n",
    "cm_r"
   ]
  },
  {
   "cell_type": "code",
   "execution_count": null,
   "id": "ff4f5668",
   "metadata": {},
   "outputs": [],
   "source": [
    "#Each word will receive a colour depending on how negative/positive it is\n",
    "\n",
    "neg_words = [item[0] for sublist in forumdata.neg_words.tolist() for item in sublist]\n",
    "neg_values = [item[1] for sublist in forumdata.neg_words.tolist() for item in sublist]\n",
    "\n",
    "pos_words = [item[0] for sublist in forumdata.pos_words.tolist() for item in sublist]\n",
    "pos_values = [item[1] for sublist in forumdata.pos_words.tolist() for item in sublist]\n",
    "\n",
    "min_max_scaler = preprocessing.MinMaxScaler()"
   ]
  },
  {
   "cell_type": "code",
   "execution_count": null,
   "id": "8ab1cb4d",
   "metadata": {},
   "outputs": [],
   "source": [
    "'victim' in forumdata.cleaned_message[0]"
   ]
  },
  {
   "cell_type": "code",
   "execution_count": null,
   "id": "a1ed1911",
   "metadata": {},
   "outputs": [],
   "source": [
    "neg_words"
   ]
  },
  {
   "cell_type": "code",
   "execution_count": null,
   "id": "e9387466",
   "metadata": {},
   "outputs": [],
   "source": [
    "neg_values = np.asarray(neg_values).reshape(-1,1)\n",
    "neg_scaled = min_max_scaler.fit_transform(neg_values)\n",
    "neg_scaled = [neg_scaled[count][0] for count,val in enumerate(neg_scaled)]\n",
    "neg_scaled"
   ]
  },
  {
   "cell_type": "code",
   "execution_count": null,
   "id": "65a70c4c",
   "metadata": {},
   "outputs": [],
   "source": [
    "neg_colourdict = []\n",
    "for word,value in zip(neg_words,neg_scaled):\n",
    "    neg_colourdict.append((word,value))\n",
    "    \n",
    "neg_colourdict"
   ]
  },
  {
   "cell_type": "code",
   "execution_count": null,
   "id": "0f3d675e",
   "metadata": {},
   "outputs": [],
   "source": [
    "if neg_colourdict[4][0] == 'victim':\n",
    "    print(neg_colourdict[4][1])"
   ]
  },
  {
   "cell_type": "code",
   "execution_count": null,
   "id": "0ae38784",
   "metadata": {},
   "outputs": [],
   "source": [
    "victims = []\n",
    "for item in neg_colourdict:\n",
    "    if [item][0][0] == 'victim':\n",
    "        victims.append(item[1])"
   ]
  },
  {
   "cell_type": "code",
   "execution_count": null,
   "id": "cfb264a3",
   "metadata": {},
   "outputs": [],
   "source": [
    "victims"
   ]
  },
  {
   "cell_type": "code",
   "execution_count": null,
   "id": "3dfbdea8",
   "metadata": {},
   "outputs": [],
   "source": [
    "res = {neg_words[i]: neg_scaled[i] for i in range(len(neg_words))}"
   ]
  },
  {
   "cell_type": "code",
   "execution_count": null,
   "id": "3faa4560",
   "metadata": {},
   "outputs": [],
   "source": [
    "neg_words[4]"
   ]
  },
  {
   "cell_type": "code",
   "execution_count": null,
   "id": "a364493e",
   "metadata": {},
   "outputs": [],
   "source": [
    "neg_scaled[4]"
   ]
  },
  {
   "cell_type": "code",
   "execution_count": null,
   "id": "18f3c7b1",
   "metadata": {},
   "outputs": [],
   "source": [
    "#Each word will receive a colour depending on how negative/positive it is\n",
    "\n",
    "x = \n",
    "              \n",
    "min_max_scaler = preprocessing.MinMaxScaler()\n",
    "x = np.asarray(x).reshape(-1,1)\n",
    "x_scaled = min_max_scaler.fit_transform(x)\n",
    "x_scaled = [x_scaled[count][0] for count,val in enumerate(x_scaled)]\n",
    "\n",
    "colours = [cm(x) for x in x_scaled]"
   ]
  },
  {
   "cell_type": "code",
   "execution_count": null,
   "id": "9855d0a8",
   "metadata": {},
   "outputs": [],
   "source": []
  }
 ],
 "metadata": {
  "kernelspec": {
   "display_name": "Python 3 (ipykernel)",
   "language": "python",
   "name": "python3"
  },
  "language_info": {
   "codemirror_mode": {
    "name": "ipython",
    "version": 3
   },
   "file_extension": ".py",
   "mimetype": "text/x-python",
   "name": "python",
   "nbconvert_exporter": "python",
   "pygments_lexer": "ipython3",
   "version": "3.8.11"
  }
 },
 "nbformat": 4,
 "nbformat_minor": 5
}
